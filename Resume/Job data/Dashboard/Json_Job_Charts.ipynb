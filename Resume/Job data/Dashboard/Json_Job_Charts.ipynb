{
 "cells": [
  {
   "cell_type": "code",
   "execution_count": 2,
   "id": "f3931898",
   "metadata": {},
   "outputs": [],
   "source": [
    "import pandas as pd\n",
    "import plotly.express as px\n",
    "import json\n",
    "import os\n",
    "import plotly\n",
    "from datetime import datetime"
   ]
  },
  {
   "cell_type": "code",
   "execution_count": 4,
   "id": "6224f296",
   "metadata": {},
   "outputs": [],
   "source": [
    "def load_and_clean_data(file_path):\n",
    "    df = pd.read_csv(file_path)\n",
    "    df.columns = df.columns.str.strip()  # Clean column names\n",
    "    df['date of sale'] = pd.to_datetime(df['date of sale'], errors='coerce')\n",
    "    df['date of lead'] = pd.to_datetime(df['date of lead'], errors='coerce')\n",
    "    df['total sale amount'] = pd.to_numeric(df['total sale amount'], errors='coerce')\n",
    "    category_cols = ['Kitchen', 'Bathroom', 'Flooring', 'Remodel', 'Cabinet']\n",
    "    df[category_cols] = df[category_cols].apply(pd.to_numeric, errors='coerce')\n",
    "    return df"
   ]
  },
  {
   "cell_type": "code",
   "execution_count": 6,
   "id": "48f9e251",
   "metadata": {},
   "outputs": [],
   "source": [
    "def export_plotly_json(fig, file_name, output_dir):\n",
    "    os.makedirs(output_dir, exist_ok=True)\n",
    "    json_path = os.path.join(output_dir, f\"{file_name}.json\")\n",
    "    with open(json_path, \"w\") as f:\n",
    "        json.dump(fig, f, cls=plotly.utils.PlotlyJSONEncoder)"
   ]
  },
  {
   "cell_type": "code",
   "execution_count": 8,
   "id": "29a4bbb7",
   "metadata": {},
   "outputs": [],
   "source": [
    "def generate_all_charts_as_json(df, output_dir=\"Dashboard\"):\n",
    "    df['year'] = df['date of sale'].dt.year\n",
    "    category_cols = ['Kitchen', 'Bathroom', 'Flooring', 'Remodel', 'Cabinet']\n",
    "\n",
    "    for year in [2024, 2025]:\n",
    "        year_df = df[df['year'] == year]\n",
    "        totals = year_df[category_cols].sum()\n",
    "        fig = px.bar(\n",
    "            x=totals.index,\n",
    "            y=totals.values,\n",
    "            labels={'x': 'Category', 'y': 'Total Amount'},\n",
    "            title=f\"Total Dollar Amount by Category ({year})\"\n",
    "        )\n",
    "        export_plotly_json(fig, f\"bar_data_{year}\", output_dir)\n",
    "\n",
    "    df['days_to_sale'] = (df['date of sale'] - df['date of lead']).dt.days\n",
    "    df_scatter = df.dropna(subset=['total sale amount', 'days_to_sale', 'Last name'])\n",
    "    scatter_fig = px.scatter(\n",
    "        df_scatter,\n",
    "        x='days_to_sale',\n",
    "        y='total sale amount',\n",
    "        hover_name='Last name',\n",
    "        title='Days to Sale vs Total Sale Amount'\n",
    "    )\n",
    "    export_plotly_json(scatter_fig, \"scatter_data\", output_dir)\n",
    "\n",
    "    df_week = df.dropna(subset=['date of sale', 'total sale amount'])\n",
    "    df_week['week'] = df_week['date of sale'].dt.to_period('W').apply(lambda r: r.start_time)\n",
    "    weekly = df_week.groupby('week')['total sale amount'].sum().reset_index()\n",
    "    weekly_fig = px.line(\n",
    "        weekly,\n",
    "        x='week',\n",
    "        y='total sale amount',\n",
    "        title='Weekly Sales Totals',\n",
    "        markers=True\n",
    "    )\n",
    "    export_plotly_json(weekly_fig, \"weekly_line_data\", output_dir)"
   ]
  },
  {
   "cell_type": "code",
   "execution_count": 10,
   "id": "03a9a2a4",
   "metadata": {},
   "outputs": [
    {
     "name": "stderr",
     "output_type": "stream",
     "text": [
      "C:\\Users\\Andre\\AppData\\Local\\Temp\\ipykernel_11528\\816763714.py:4: UserWarning: Could not infer format, so each element will be parsed individually, falling back to `dateutil`. To ensure parsing is consistent and as-expected, please specify a format.\n",
      "  df['date of sale'] = pd.to_datetime(df['date of sale'], errors='coerce')\n",
      "C:\\Users\\Andre\\AppData\\Local\\Temp\\ipykernel_11528\\816763714.py:5: UserWarning: Could not infer format, so each element will be parsed individually, falling back to `dateutil`. To ensure parsing is consistent and as-expected, please specify a format.\n",
      "  df['date of lead'] = pd.to_datetime(df['date of lead'], errors='coerce')\n"
     ]
    }
   ],
   "source": [
    "# Run chart generation\n",
    "df = load_and_clean_data(\"Job list - Job Break Downs.csv\")\n",
    "generate_all_charts_as_json(df)"
   ]
  },
  {
   "cell_type": "code",
   "execution_count": null,
   "id": "851e0b6b-16a2-4f27-b8d2-dc90876df3c2",
   "metadata": {},
   "outputs": [],
   "source": []
  }
 ],
 "metadata": {
  "kernelspec": {
   "display_name": "Python 3 (ipykernel)",
   "language": "python",
   "name": "python3"
  },
  "language_info": {
   "codemirror_mode": {
    "name": "ipython",
    "version": 3
   },
   "file_extension": ".py",
   "mimetype": "text/x-python",
   "name": "python",
   "nbconvert_exporter": "python",
   "pygments_lexer": "ipython3",
   "version": "3.12.4"
  }
 },
 "nbformat": 4,
 "nbformat_minor": 5
}
