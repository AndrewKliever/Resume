{
 "cells": [
  {
   "cell_type": "code",
   "execution_count": 2,
   "id": "09a2a30d-a418-4708-aadd-bc46f7ebbe3b",
   "metadata": {},
   "outputs": [],
   "source": [
    "import pandas as pd\n",
    "import matplotlib.pyplot as plt\n",
    "import plotly.express as px\n",
    "import plotly.io as pio\n",
    "import numpy as np\n",
    "import os"
   ]
  },
  {
   "cell_type": "code",
   "execution_count": 4,
   "id": "bd4919ee-c077-47d7-9a50-93009876a2ac",
   "metadata": {},
   "outputs": [],
   "source": [
    "def load_and_clean_data(filepath):\n",
    "    df = pd.read_csv(filepath)\n",
    "    df.columns = df.columns.str.strip()\n",
    "    df['date of sale'] = pd.to_datetime(df['date of sale'], errors='coerce')\n",
    "    cols = ['total sale amount', 'Kitchen', 'Bathroom', 'Flooring', 'Remodel', 'Cabinet']\n",
    "    df[cols] = df[cols].apply(pd.to_numeric, errors='coerce')\n",
    "    return df\n",
    "\n",
    "def plot_category_totals(df, year, output_dir):\n",
    "    df_year = df[df['date of sale'].dt.year == year]\n",
    "    totals = df_year[['Kitchen', 'Bathroom', 'Flooring', 'Remodel', 'Cabinet']].sum()\n",
    "    plt.figure(figsize=(10, 6))\n",
    "    bars = plt.bar(totals.index, totals.values, color='skyblue')\n",
    "    plt.title(f'{year} - Total Dollar Amount by Category')\n",
    "    plt.xlabel('Categories')\n",
    "    plt.ylabel('Total Dollar Amount')\n",
    "    plt.ylim(0, 1500000)\n",
    "    plt.grid(True, axis='y')\n",
    "    for bar in bars:\n",
    "        height = bar.get_height()\n",
    "        plt.text(bar.get_x() + bar.get_width() / 2, height, f'${height:,.0f}',\n",
    "                 ha='center', va='bottom', fontsize=10)\n",
    "    plt.tight_layout()\n",
    "    plt.savefig(os.path.join(output_dir, f\"{year}_bar_chart.pdf\"))\n",
    "    plt.close()\n",
    "\n",
    "def plot_grouped_bar(df, output_dir):\n",
    "    df_2024 = df[df['date of sale'].dt.year == 2024]\n",
    "    df_2025 = df[df['date of sale'].dt.year == 2025]\n",
    "    categories = ['Kitchen', 'Bathroom', 'Flooring', 'Remodel', 'Cabinet']\n",
    "    totals_2024 = df_2024[categories].sum()\n",
    "    totals_2025 = df_2025[categories].sum()\n",
    "    x = np.arange(len(categories))\n",
    "    width = 0.35\n",
    "    fig, ax = plt.subplots(figsize=(10, 6))\n",
    "    bars_2024 = ax.bar(x - width/2, totals_2024, width, label='2024', color='skyblue')\n",
    "    bars_2025 = ax.bar(x + width/2, totals_2025, width, label='2025', color='lightgreen')\n",
    "    ax.set_title('2024 vs 2025 - Total Dollar Amount by Category')\n",
    "    ax.set_xticks(x)\n",
    "    ax.set_xticklabels(categories)\n",
    "    ax.set_ylabel('Total Dollar Amount')\n",
    "    ax.set_ylim(0, 1500000)\n",
    "    ax.legend()\n",
    "    ax.grid(True, axis='y')\n",
    "    for bar in bars_2024:\n",
    "        ax.text(bar.get_x() + bar.get_width()/2, bar.get_height(), f'${bar.get_height():,.0f}',\n",
    "                ha='center', va='bottom', fontsize=9)\n",
    "    for bar in bars_2025:\n",
    "        ax.text(bar.get_x() + bar.get_width()/2, bar.get_height(), f'${bar.get_height():,.0f}',\n",
    "                ha='center', va='bottom', fontsize=9)\n",
    "    plt.tight_layout()\n",
    "    plt.savefig(os.path.join(output_dir, \"Grouped_Bar_Chart.pdf\"))\n",
    "    plt.close()\n",
    "\n",
    "\n",
    "def generate_all_charts(file_path, output_dir=\"charts\"):\n",
    "    os.makedirs(output_dir, exist_ok=True)\n",
    "    df = load_and_clean_data(file_path)\n",
    "    plot_category_totals(df, 2024, output_dir)\n",
    "    plot_category_totals(df, 2025, output_dir)\n",
    "    plot_grouped_bar(df, output_dir)\n",
    "    print(f\"Charts saved to: {output_dir}\")"
   ]
  },
  {
   "cell_type": "code",
   "execution_count": 6,
   "id": "76d1e0eb",
   "metadata": {},
   "outputs": [
    {
     "name": "stderr",
     "output_type": "stream",
     "text": [
      "C:\\Users\\Andre\\AppData\\Local\\Temp\\ipykernel_22256\\3164557709.py:4: UserWarning: Could not infer format, so each element will be parsed individually, falling back to `dateutil`. To ensure parsing is consistent and as-expected, please specify a format.\n",
      "  df['date of sale'] = pd.to_datetime(df['date of sale'], errors='coerce')\n"
     ]
    },
    {
     "name": "stdout",
     "output_type": "stream",
     "text": [
      "Charts saved to: charts\n"
     ]
    }
   ],
   "source": [
    "\n",
    "# Generate charts from your job breakdown file\n",
    "generate_all_charts(\"Job list - Job Break Downs.csv\", output_dir=\"charts\")\n"
   ]
  },
  {
   "cell_type": "code",
   "execution_count": 8,
   "id": "5cd916ea-80b6-47c7-83fc-ed279f1cb7d6",
   "metadata": {},
   "outputs": [],
   "source": [
    "\n",
    "def plot_sale_amount_days_to_sale(df, output_dir):\n",
    "    df['date of sale'] = pd.to_datetime(df['date of sale'], errors='coerce')\n",
    "    df['date of lead'] = pd.to_datetime(df['date of lead'], errors='coerce')\n",
    "    df['total sale amount'] = pd.to_numeric(df['total sale amount'], errors='coerce')\n",
    "    df['days_to_sale'] = (df['date of sale'] - df['date of lead']).dt.days\n",
    "    df_clean = df.dropna(subset=['total sale amount', 'days_to_sale', 'Last name'])\n",
    "\n",
    "    plt.figure(figsize=(10, 6))\n",
    "    plt.scatter(df_clean['days_to_sale'], df_clean['total sale amount'], alpha=0.6, color='mediumslateblue')\n",
    "    plt.title('Days to Sale vs Total Sale Amount')\n",
    "    plt.xlabel('Days to Sale')\n",
    "    plt.ylabel('Total Sale Amount ($)')\n",
    "    plt.grid(True)\n",
    "\n",
    "    plt.tight_layout()\n",
    "    plt.savefig(os.path.join(output_dir, \"sale_amount_days_to_sale.pdf\"))\n",
    "    plt.close()\n",
    "\n",
    "def plot_sales_by_week(df, output_dir):\n",
    "    df['date of sale'] = pd.to_datetime(df['date of sale'], errors='coerce')\n",
    "    df['total sale amount'] = pd.to_numeric(df['total sale amount'], errors='coerce')\n",
    "    df_clean = df.dropna(subset=['date of sale', 'total sale amount'])\n",
    "\n",
    "    df_clean['week'] = df_clean['date of sale'].dt.to_period('W').apply(lambda r: r.start_time)\n",
    "    weekly_summary = df_clean.groupby('week')['total sale amount'].sum().reset_index()\n",
    "\n",
    "    plt.figure(figsize=(12, 6))\n",
    "    plt.plot(weekly_summary['week'], weekly_summary['total sale amount'], marker='o', color='teal', linewidth=2)\n",
    "    plt.title('Weekly Total Sales')\n",
    "    plt.xlabel('Week Starting')\n",
    "    plt.ylabel('Total Sales ($)')\n",
    "    plt.grid(True)\n",
    "    plt.xticks(rotation=45)\n",
    "\n",
    "    plt.tight_layout()\n",
    "    plt.savefig(os.path.join(output_dir, \"sales_by_week.pdf\"))\n",
    "    plt.close()\n",
    "\n",
    "def generate_charts(file_path, output_dir=\"charts\"):\n",
    "    os.makedirs(output_dir, exist_ok=True)\n",
    "    df = load_and_clean_data(file_path)\n",
    "    plot_sales_by_week(df, output_dir)\n",
    "    plot_sale_amount_days_to_sale(df, output_dir)\n",
    "    print(f\"Charts saved to: {output_dir}\")\n"
   ]
  },
  {
   "cell_type": "code",
   "execution_count": 10,
   "id": "50f5d416-3d99-4d4c-b132-77c798b8e4a2",
   "metadata": {},
   "outputs": [
    {
     "name": "stderr",
     "output_type": "stream",
     "text": [
      "C:\\Users\\Andre\\AppData\\Local\\Temp\\ipykernel_22256\\3164557709.py:4: UserWarning: Could not infer format, so each element will be parsed individually, falling back to `dateutil`. To ensure parsing is consistent and as-expected, please specify a format.\n",
      "  df['date of sale'] = pd.to_datetime(df['date of sale'], errors='coerce')\n",
      "C:\\Users\\Andre\\AppData\\Local\\Temp\\ipykernel_22256\\358260168.py:3: UserWarning: Could not infer format, so each element will be parsed individually, falling back to `dateutil`. To ensure parsing is consistent and as-expected, please specify a format.\n",
      "  df['date of lead'] = pd.to_datetime(df['date of lead'], errors='coerce')\n"
     ]
    },
    {
     "name": "stdout",
     "output_type": "stream",
     "text": [
      "Charts saved to: charts\n"
     ]
    }
   ],
   "source": [
    "# Generate charts from your job breakdown file\n",
    "generate_charts(\"Job list - Job Break Downs.csv\", output_dir=\"charts\")"
   ]
  },
  {
   "cell_type": "code",
   "execution_count": 13,
   "id": "c9736563-21ef-4315-bba5-191b96a78b29",
   "metadata": {},
   "outputs": [
    {
     "name": "stderr",
     "output_type": "stream",
     "text": [
      "C:\\Users\\Andre\\AppData\\Local\\Temp\\ipykernel_22256\\3164557709.py:4: UserWarning: Could not infer format, so each element will be parsed individually, falling back to `dateutil`. To ensure parsing is consistent and as-expected, please specify a format.\n",
      "  df['date of sale'] = pd.to_datetime(df['date of sale'], errors='coerce')\n"
     ]
    },
    {
     "ename": "NameError",
     "evalue": "name 'generate_all_charts_as_json' is not defined",
     "output_type": "error",
     "traceback": [
      "\u001b[1;31m---------------------------------------------------------------------------\u001b[0m",
      "\u001b[1;31mNameError\u001b[0m                                 Traceback (most recent call last)",
      "Cell \u001b[1;32mIn[13], line 2\u001b[0m\n\u001b[0;32m      1\u001b[0m df \u001b[38;5;241m=\u001b[39m load_and_clean_data(\u001b[38;5;124m\"\u001b[39m\u001b[38;5;124mJob list - Job Break Downs.csv\u001b[39m\u001b[38;5;124m\"\u001b[39m)\n\u001b[1;32m----> 2\u001b[0m \u001b[43mgenerate_all_charts_as_json\u001b[49m(df)\n",
      "\u001b[1;31mNameError\u001b[0m: name 'generate_all_charts_as_json' is not defined"
     ]
    }
   ],
   "source": [
    "df = load_and_clean_data(\"Job list - Job Break Downs.csv\")\n",
    "generate_all_charts_as_json(df)\n"
   ]
  },
  {
   "cell_type": "code",
   "execution_count": null,
   "id": "ccf662b7-cf32-42e4-b73b-d0bd7a4806e3",
   "metadata": {},
   "outputs": [],
   "source": []
  }
 ],
 "metadata": {
  "kernelspec": {
   "display_name": "Python 3 (ipykernel)",
   "language": "python",
   "name": "python3"
  },
  "language_info": {
   "codemirror_mode": {
    "name": "ipython",
    "version": 3
   },
   "file_extension": ".py",
   "mimetype": "text/x-python",
   "name": "python",
   "nbconvert_exporter": "python",
   "pygments_lexer": "ipython3",
   "version": "3.12.4"
  }
 },
 "nbformat": 4,
 "nbformat_minor": 5
}
